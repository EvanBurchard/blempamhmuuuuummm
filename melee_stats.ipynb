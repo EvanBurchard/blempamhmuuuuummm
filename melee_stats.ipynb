{
 "cells": [
  {
   "cell_type": "markdown",
   "id": "73434f8e-b367-40e6-8b69-ddd3fb3cf323",
   "metadata": {},
   "source": [
    "# Add games to analytics directory as json"
   ]
  },
  {
   "cell_type": "markdown",
   "id": "0b20b715-e503-4a06-af63-58dc11ea17b3",
   "metadata": {},
   "source": [
    "## Setup"
   ]
  },
  {
   "cell_type": "code",
   "execution_count": null,
   "id": "4887bab5-0f63-4bdd-8b76-a593e9af7702",
   "metadata": {},
   "outputs": [],
   "source": [
    "import os\n",
    "from os import listdir\n",
    "from os.path import isfile, join"
   ]
  },
  {
   "cell_type": "markdown",
   "id": "31a217ec-4248-4d1a-ae4c-128a8afb79d7",
   "metadata": {},
   "source": [
    "## Add Single Game "
   ]
  },
  {
   "cell_type": "code",
   "execution_count": 3,
   "id": "18f36c61-bfd3-48c0-abce-cfa35537e3c4",
   "metadata": {},
   "outputs": [
    {
     "data": {
      "text/plain": [
       "0"
      ]
     },
     "execution_count": 3,
     "metadata": {},
     "output_type": "execute_result"
    }
   ],
   "source": [
    "game_path = \"test_game.slp\"\n",
    "os.system('node stats.js' + ' ' + game_path)"
   ]
  },
  {
   "cell_type": "markdown",
   "id": "5a2e306e-4c82-4818-b22b-13a3b7f90913",
   "metadata": {},
   "source": [
    "## Add multiple games\n"
   ]
  },
  {
   "cell_type": "code",
   "execution_count": 1,
   "id": "218a6184-4591-4147-9604-7342978bc0ee",
   "metadata": {},
   "outputs": [],
   "source": [
    "games_path = \"../../Slippi\"\n",
    "game_files = [games_path + '/' + f for f in listdir(games_path) if isfile(join(games_path, f))]"
   ]
  },
  {
   "cell_type": "code",
   "execution_count": 2,
   "id": "50016c34-7939-49fe-8f0b-a7e8d30997a4",
   "metadata": {},
   "outputs": [],
   "source": [
    "# this took about an hour for 6000 games\n",
    "for file_name in game_files:\n",
    "    os.system('node stats.js' + ' ' + file_name)"
   ]
  },
  {
   "cell_type": "markdown",
   "id": "e690f7dd-8df9-407b-b629-2592609d2b7d",
   "metadata": {},
   "source": [
    "# Import game analytics into Pandas"
   ]
  },
  {
   "cell_type": "markdown",
   "id": "f8b0f7f9-74b0-49aa-824d-1913eb795a51",
   "metadata": {},
   "source": [
    "## Setup"
   ]
  },
  {
   "cell_type": "code",
   "execution_count": 5,
   "id": "e2d38640-5779-47a3-acdf-72377cf29c4f",
   "metadata": {},
   "outputs": [],
   "source": [
    "import numpy as np\n",
    "import pandas as pd"
   ]
  },
  {
   "cell_type": "code",
   "execution_count": null,
   "id": "66d535eb-cd56-44b8-b7f8-37708fa603f8",
   "metadata": {},
   "outputs": [],
   "source": []
  }
 ],
 "metadata": {
  "kernelspec": {
   "display_name": "Python 3 (ipykernel)",
   "language": "python",
   "name": "python3"
  },
  "language_info": {
   "codemirror_mode": {
    "name": "ipython",
    "version": 3
   },
   "file_extension": ".py",
   "mimetype": "text/x-python",
   "name": "python",
   "nbconvert_exporter": "python",
   "pygments_lexer": "ipython3",
   "version": "3.9.6"
  }
 },
 "nbformat": 4,
 "nbformat_minor": 5
}
