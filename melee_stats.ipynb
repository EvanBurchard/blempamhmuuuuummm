{
 "cells": [
  {
   "cell_type": "markdown",
   "id": "73434f8e-b367-40e6-8b69-ddd3fb3cf323",
   "metadata": {},
   "source": [
    "# Setup"
   ]
  },
  {
   "cell_type": "code",
   "execution_count": 1,
   "id": "18f36c61-bfd3-48c0-abce-cfa35537e3c4",
   "metadata": {},
   "outputs": [
    {
     "name": "stdout",
     "output_type": "stream",
     "text": [
      "something went wrong with:  game_analytics/Game_20231002T112717.json\n",
      "something went wrong with:  game_analytics/Game_20230821T074359.json\n",
      "something went wrong with:  game_analytics/.DS_Store\n",
      "something went wrong with:  game_analytics/Game_20231003T144755.json\n",
      "something went wrong with:  game_analytics/Game_20230810T141105.json\n",
      "something went wrong with:  game_analytics/Game_20231001T235749.json\n",
      "something went wrong with:  game_analytics/Game_20231018T195855.json\n",
      "something went wrong with:  game_analytics/Game_20230827T101530.json\n",
      "something went wrong with:  game_analytics/Game_20230807T091818.json\n",
      "something went wrong with:  game_analytics/Game_20230806T200651.json\n",
      "something went wrong with:  game_analytics/Game_20230814T213419.json\n",
      "something went wrong with:  game_analytics/Game_20230722T085734.json\n",
      "something went wrong with:  game_analytics/Game_20231021T081930.json\n",
      "something went wrong with:  game_analytics/Game_20230906T150537.json\n",
      "something went wrong with:  game_analytics/Game_20230721T154233.json\n",
      "something went wrong with:  game_analytics/Game_20230919T003340.json\n",
      "something went wrong with:  game_analytics/Game_20230804T181006.json\n",
      "something went wrong with:  game_analytics/Game_20230917T001954.json\n",
      "something went wrong with:  game_analytics/Game_20230719T212031.json\n",
      "something went wrong with:  game_analytics/Game_20230831T233723.json\n",
      "something went wrong with:  game_analytics/Game_20230922T142630.json\n",
      "something went wrong with:  game_analytics/Game_20230806T155811.json\n",
      "something went wrong with:  game_analytics/Game_20230812T185130.json\n",
      "An exception occurred for: \n",
      "game_analytics/Game_20230919T200621.json\n",
      "something went wrong with:  game_analytics/Game_20230720T235701.json\n",
      "something went wrong with:  game_analytics/Game_20230721T144131.json\n",
      "something went wrong with:  game_analytics/Game_20230902T222535.json\n"
     ]
    }
   ],
   "source": [
    "import os\n",
    "from os import listdir\n",
    "from os.path import isfile, join\n",
    "import re\n",
    "import numpy as np\n",
    "import pandas as pd\n",
    "import json\n",
    "import matplotlib.pyplot as plt\n",
    "import blempamhmuuuuummm as bph\n",
    "\n",
    "\n",
    "# for one game. Used for testing\n",
    "# test_game_path = \"test_game.slp\"\n",
    "# bph.write_game_json(test_game_path)\n",
    "# load_single_game('game_analytics/test_game.json', pd.DataFrame())\n",
    "\n",
    "# write game json files\n",
    "slippi_archive_path = \"../../Slippi\"\n",
    "bph.write_games_json(slippi_archive_path)\n",
    "\n",
    "# read game json into memory\n",
    "all_games = bph.load_multiple_games(\"game_analytics\")\n",
    "my_id = bph.find_my_id(all_games) # this guesses your id based on the most popular id in your archive. \n",
    "# my_id = \"aPmT3TcxYLaUAlxSDKDsfKFmXC72\" # or you can set it manually\n"
   ]
  },
  {
   "cell_type": "markdown",
   "id": "564de7f0-bc6a-4ee7-a006-6752c0d42c21",
   "metadata": {},
   "source": [
    "# Sample Queries"
   ]
  },
  {
   "cell_type": "code",
   "execution_count": 3,
   "id": "849aa41c-6220-42f8-8d6d-2bfb0ccc06c9",
   "metadata": {},
   "outputs": [],
   "source": [
    "#scoping\n",
    "completed_games = bph.finished_games(all_games)\n",
    "recent = bph.recent_games(completed_games, 50) # recent n number of games"
   ]
  },
  {
   "cell_type": "code",
   "execution_count": 4,
   "id": "b741defd-32c9-49d1-970c-b8780c75db80",
   "metadata": {},
   "outputs": [
    {
     "data": {
      "text/plain": [
       "(2399, 2741, 0.46673151750972763)"
      ]
     },
     "execution_count": 4,
     "metadata": {},
     "output_type": "execute_result"
    }
   ],
   "source": [
    "# win rates\n",
    "bph.overall_win_rates(completed_games, my_id)"
   ]
  },
  {
   "cell_type": "code",
   "execution_count": 5,
   "id": "eaa6d32e-6f0f-49f8-904f-7c76a3b8fc1d",
   "metadata": {},
   "outputs": [
    {
     "data": {
      "text/plain": [
       "{'Dream Land N64': 0.5213675213675214,\n",
       " 'Final Destination': 0.4827586206896552,\n",
       " \"Yoshi's Story\": 0.4734982332155477,\n",
       " 'Pokémon Stadium': 0.4641638225255973,\n",
       " 'Fountain of Dreams': 0.451348182883939,\n",
       " 'Battlefield': 0.4310747663551402,\n",
       " \"Princess Peach's Castle\": 0,\n",
       " 'Kongo Jungle': 0,\n",
       " 'Brinstar': 0,\n",
       " 'Corneria': 0,\n",
       " 'Onett': 0,\n",
       " 'Mute City': 0,\n",
       " 'Rainbow Cruise': 0,\n",
       " 'Jungle Japes': 0,\n",
       " 'Great Bay': 0,\n",
       " 'Hyrule Temple': 0,\n",
       " 'Brinstar Depths': 0,\n",
       " \"Yoshi's Island\": 0,\n",
       " 'Green Greens': 0,\n",
       " 'Fourside': 0,\n",
       " 'Mushroom Kingdom I': 0,\n",
       " 'Mushroom Kingdom IIVenom': 0,\n",
       " 'Poké Floats': 0,\n",
       " 'Big Blue': 0,\n",
       " 'Icicle Mountain': 0,\n",
       " 'Icetop': 0,\n",
       " 'Flat Zone': 0,\n",
       " \"Yoshi's Island N64\": 0,\n",
       " 'Kongo Jungle N64': 0}"
      ]
     },
     "execution_count": 5,
     "metadata": {},
     "output_type": "execute_result"
    }
   ],
   "source": [
    "bph.win_rates_for_all_stages(completed_games, my_id)"
   ]
  },
  {
   "cell_type": "code",
   "execution_count": 6,
   "id": "60310afd-8d51-4881-9d56-6f200d0deef5",
   "metadata": {},
   "outputs": [
    {
     "data": {
      "text/plain": [
       "{'Falco': 0.2056420233463035,\n",
       " 'Fox': 0.15369649805447472,\n",
       " 'Captain Falcon': 0.1208171206225681,\n",
       " 'Marth': 0.12062256809338522,\n",
       " 'Sheik': 0.06750972762645914,\n",
       " 'Jigglypuff': 0.03832684824902724,\n",
       " 'Dr. Mario': 0.03151750972762646,\n",
       " 'Yoshi': 0.030155642023346304,\n",
       " 'Luigi': 0.02821011673151751,\n",
       " 'Ganondorf': 0.027431906614785992,\n",
       " 'Peach': 0.022957198443579768,\n",
       " 'Samus': 0.020622568093385214,\n",
       " 'Mario': 0.017120622568093387,\n",
       " 'Ice Climbers': 0.015953307392996108,\n",
       " 'Pikachu': 0.01536964980544747,\n",
       " 'Donkey Kong': 0.014785992217898832,\n",
       " 'Roy': 0.014007782101167316,\n",
       " 'Young Link': 0.011673151750972763,\n",
       " 'Link': 0.011284046692607004,\n",
       " 'Mewtwo': 0.0071984435797665365,\n",
       " 'Mr. Game & Watch': 0.007003891050583658,\n",
       " 'Bowser': 0.004280155642023347,\n",
       " 'Ness': 0.004085603112840467,\n",
       " 'Kirby': 0.003501945525291829,\n",
       " 'Pichu': 0.002723735408560311,\n",
       " 'Zelda': 0.002529182879377432}"
      ]
     },
     "execution_count": 6,
     "metadata": {},
     "output_type": "execute_result"
    }
   ],
   "source": [
    "bph.encounter_rates_across_characters(all_games, my_id)"
   ]
  },
  {
   "cell_type": "code",
   "execution_count": 8,
   "id": "73d62f44-acb6-4a8b-9eb5-e34b0cf7cc8b",
   "metadata": {},
   "outputs": [
    {
     "data": {
      "text/plain": [
       "0.5443554606394969"
      ]
     },
     "execution_count": 8,
     "metadata": {},
     "output_type": "execute_result"
    }
   ],
   "source": [
    "bph.l_cancel_rate(completed_games, my_id, False)"
   ]
  },
  {
   "cell_type": "code",
   "execution_count": 9,
   "id": "01e8d3e7-031c-46c9-882b-2a8e8f716f8a",
   "metadata": {},
   "outputs": [
    {
     "data": {
      "text/plain": [
       "{'Sheik': 0.3032069970845481,\n",
       " 'Pikachu': 0.379746835443038,\n",
       " 'Zelda': 0.38461538461538464,\n",
       " 'Captain Falcon': 0.3883495145631068,\n",
       " 'Peach': 0.4152542372881356,\n",
       " 'Samus': 0.42452830188679247,\n",
       " 'Ganondorf': 0.4420289855072464,\n",
       " 'Mr. Game & Watch': 0.4444444444444444,\n",
       " 'Yoshi': 0.45806451612903226,\n",
       " 'Fox': 0.4648786717752235,\n",
       " 'Falco': 0.4661582459485224,\n",
       " 'Marth': 0.4773462783171521,\n",
       " 'Link': 0.4827586206896552,\n",
       " 'Dr. Mario': 0.4876543209876543,\n",
       " 'Luigi': 0.4896551724137931,\n",
       " 'Donkey Kong': 0.6052631578947368,\n",
       " 'Ice Climbers': 0.6075949367088608,\n",
       " 'Ness': 0.6190476190476191,\n",
       " 'Bowser': 0.6363636363636364,\n",
       " 'Roy': 0.6388888888888888,\n",
       " 'Jigglypuff': 0.649746192893401,\n",
       " 'Mario': 0.6704545454545454,\n",
       " 'Young Link': 0.6833333333333333,\n",
       " 'Kirby': 0.7777777777777778,\n",
       " 'Pichu': 0.7857142857142857,\n",
       " 'Mewtwo': 0.8378378378378378}"
      ]
     },
     "execution_count": 9,
     "metadata": {},
     "output_type": "execute_result"
    }
   ],
   "source": [
    "bph.get_character_win_rates(completed_games, my_id)"
   ]
  },
  {
   "cell_type": "code",
   "execution_count": 10,
   "id": "4cf984a6-b52d-4991-94e1-ca857bec49cf",
   "metadata": {},
   "outputs": [
    {
     "data": {
      "text/plain": [
       "{'Captain Falcon': tech_away       0.061726\n",
       " tech_in         0.053247\n",
       " tech_fail       0.654061\n",
       " tech_neutral    0.230965\n",
       " dtype: float64,\n",
       " 'Donkey Kong': tech_away       0.050292\n",
       " tech_in         0.078363\n",
       " tech_fail       0.651462\n",
       " tech_neutral    0.219883\n",
       " dtype: float64,\n",
       " 'Fox': tech_away       0.043385\n",
       " tech_in         0.047022\n",
       " tech_fail       0.708165\n",
       " tech_neutral    0.201428\n",
       " dtype: float64,\n",
       " 'Mr. Game & Watch': tech_away       0.028571\n",
       " tech_in         0.020408\n",
       " tech_fail       0.763265\n",
       " tech_neutral    0.187755\n",
       " dtype: float64,\n",
       " 'Kirby': tech_away       0.0375\n",
       " tech_in         0.0875\n",
       " tech_fail       0.7125\n",
       " tech_neutral    0.1625\n",
       " dtype: float64,\n",
       " 'Bowser': tech_away       0.019231\n",
       " tech_in         0.070513\n",
       " tech_fail       0.685897\n",
       " tech_neutral    0.224359\n",
       " dtype: float64,\n",
       " 'Link': tech_away       0.036244\n",
       " tech_in         0.054366\n",
       " tech_fail       0.742998\n",
       " tech_neutral    0.166392\n",
       " dtype: float64,\n",
       " 'Luigi': tech_away       0.032821\n",
       " tech_in         0.072821\n",
       " tech_fail       0.706667\n",
       " tech_neutral    0.187692\n",
       " dtype: float64,\n",
       " 'Mario': tech_away       0.041991\n",
       " tech_in         0.069984\n",
       " tech_fail       0.667185\n",
       " tech_neutral    0.220840\n",
       " dtype: float64,\n",
       " 'Marth': tech_away       0.042997\n",
       " tech_in         0.075990\n",
       " tech_fail       0.677735\n",
       " tech_neutral    0.203278\n",
       " dtype: float64,\n",
       " 'Mewtwo': tech_away       0.024590\n",
       " tech_in         0.036885\n",
       " tech_fail       0.758197\n",
       " tech_neutral    0.180328\n",
       " dtype: float64,\n",
       " 'Ness': tech_away       0.034014\n",
       " tech_in         0.047619\n",
       " tech_fail       0.680272\n",
       " tech_neutral    0.238095\n",
       " dtype: float64,\n",
       " 'Peach': tech_away       0.030691\n",
       " tech_in         0.092072\n",
       " tech_fail       0.680307\n",
       " tech_neutral    0.196931\n",
       " dtype: float64,\n",
       " 'Pikachu': tech_away       0.026016\n",
       " tech_in         0.034146\n",
       " tech_fail       0.648780\n",
       " tech_neutral    0.291057\n",
       " dtype: float64,\n",
       " 'Ice Climbers': tech_away       0.019386\n",
       " tech_in         0.042003\n",
       " tech_fail       0.843296\n",
       " tech_neutral    0.095315\n",
       " dtype: float64,\n",
       " 'Jigglypuff': tech_away       0.035616\n",
       " tech_in         0.061644\n",
       " tech_fail       0.784932\n",
       " tech_neutral    0.117808\n",
       " dtype: float64,\n",
       " 'Samus': tech_away       0.039563\n",
       " tech_in         0.024557\n",
       " tech_fail       0.788540\n",
       " tech_neutral    0.147340\n",
       " dtype: float64,\n",
       " 'Yoshi': tech_away       0.033019\n",
       " tech_in         0.043801\n",
       " tech_fail       0.718329\n",
       " tech_neutral    0.204852\n",
       " dtype: float64,\n",
       " 'Zelda': tech_away       0.087912\n",
       " tech_in         0.131868\n",
       " tech_fail       0.560440\n",
       " tech_neutral    0.219780\n",
       " dtype: float64,\n",
       " 'Sheik': tech_away       0.056875\n",
       " tech_in         0.074941\n",
       " tech_fail       0.707595\n",
       " tech_neutral    0.160589\n",
       " dtype: float64,\n",
       " 'Falco': tech_away       0.045730\n",
       " tech_in         0.063625\n",
       " tech_fail       0.673129\n",
       " tech_neutral    0.217517\n",
       " dtype: float64,\n",
       " 'Young Link': tech_away       0.033755\n",
       " tech_in         0.069620\n",
       " tech_fail       0.689873\n",
       " tech_neutral    0.206751\n",
       " dtype: float64,\n",
       " 'Dr. Mario': tech_away       0.018309\n",
       " tech_in         0.040976\n",
       " tech_fail       0.758500\n",
       " tech_neutral    0.182214\n",
       " dtype: float64,\n",
       " 'Roy': tech_away       0.044499\n",
       " tech_in         0.069221\n",
       " tech_fail       0.661310\n",
       " tech_neutral    0.224969\n",
       " dtype: float64,\n",
       " 'Pichu': tech_away       0.080000\n",
       " tech_in         0.066667\n",
       " tech_fail       0.626667\n",
       " tech_neutral    0.226667\n",
       " dtype: float64,\n",
       " 'Ganondorf': tech_away       0.043769\n",
       " tech_in         0.071958\n",
       " tech_fail       0.710682\n",
       " tech_neutral    0.173591\n",
       " dtype: float64}"
      ]
     },
     "execution_count": 10,
     "metadata": {},
     "output_type": "execute_result"
    }
   ],
   "source": [
    "bph.all_character_tech_options(completed_games, my_id)"
   ]
  },
  {
   "cell_type": "code",
   "execution_count": 6,
   "id": "58f67f9e-47b8-4110-a01c-588bb7088aac",
   "metadata": {},
   "outputs": [
    {
     "ename": "ImportError",
     "evalue": "Missing optional dependency 'tabulate'.  Use pip or conda to install tabulate.",
     "output_type": "error",
     "traceback": [
      "\u001b[0;31m---------------------------------------------------------------------------\u001b[0m",
      "\u001b[0;31mModuleNotFoundError\u001b[0m                       Traceback (most recent call last)",
      "File \u001b[0;32m~/Library/Python/3.9/lib/python/site-packages/pandas/compat/_optional.py:132\u001b[0m, in \u001b[0;36mimport_optional_dependency\u001b[0;34m(name, extra, errors, min_version)\u001b[0m\n\u001b[1;32m    131\u001b[0m \u001b[38;5;28;01mtry\u001b[39;00m:\n\u001b[0;32m--> 132\u001b[0m     module \u001b[38;5;241m=\u001b[39m \u001b[43mimportlib\u001b[49m\u001b[38;5;241;43m.\u001b[39;49m\u001b[43mimport_module\u001b[49m\u001b[43m(\u001b[49m\u001b[43mname\u001b[49m\u001b[43m)\u001b[49m\n\u001b[1;32m    133\u001b[0m \u001b[38;5;28;01mexcept\u001b[39;00m \u001b[38;5;167;01mImportError\u001b[39;00m:\n",
      "File \u001b[0;32m/Library/Developer/CommandLineTools/Library/Frameworks/Python3.framework/Versions/3.9/lib/python3.9/importlib/__init__.py:127\u001b[0m, in \u001b[0;36mimport_module\u001b[0;34m(name, package)\u001b[0m\n\u001b[1;32m    126\u001b[0m         level \u001b[38;5;241m+\u001b[39m\u001b[38;5;241m=\u001b[39m \u001b[38;5;241m1\u001b[39m\n\u001b[0;32m--> 127\u001b[0m \u001b[38;5;28;01mreturn\u001b[39;00m \u001b[43m_bootstrap\u001b[49m\u001b[38;5;241;43m.\u001b[39;49m\u001b[43m_gcd_import\u001b[49m\u001b[43m(\u001b[49m\u001b[43mname\u001b[49m\u001b[43m[\u001b[49m\u001b[43mlevel\u001b[49m\u001b[43m:\u001b[49m\u001b[43m]\u001b[49m\u001b[43m,\u001b[49m\u001b[43m \u001b[49m\u001b[43mpackage\u001b[49m\u001b[43m,\u001b[49m\u001b[43m \u001b[49m\u001b[43mlevel\u001b[49m\u001b[43m)\u001b[49m\n",
      "File \u001b[0;32m<frozen importlib._bootstrap>:1030\u001b[0m, in \u001b[0;36m_gcd_import\u001b[0;34m(name, package, level)\u001b[0m\n",
      "File \u001b[0;32m<frozen importlib._bootstrap>:1007\u001b[0m, in \u001b[0;36m_find_and_load\u001b[0;34m(name, import_)\u001b[0m\n",
      "File \u001b[0;32m<frozen importlib._bootstrap>:984\u001b[0m, in \u001b[0;36m_find_and_load_unlocked\u001b[0;34m(name, import_)\u001b[0m\n",
      "\u001b[0;31mModuleNotFoundError\u001b[0m: No module named 'tabulate'",
      "\nDuring handling of the above exception, another exception occurred:\n",
      "\u001b[0;31mImportError\u001b[0m                               Traceback (most recent call last)",
      "Cell \u001b[0;32mIn[6], line 1\u001b[0m\n\u001b[0;32m----> 1\u001b[0m \u001b[43mlib\u001b[49m\u001b[38;5;241;43m.\u001b[39;49m\u001b[43mget_opponent_history\u001b[49m\u001b[43m(\u001b[49m\u001b[43mall_games\u001b[49m\u001b[43m,\u001b[49m\u001b[43m \u001b[49m\u001b[38;5;124;43m\"\u001b[39;49m\u001b[38;5;124;43mrat\u001b[39;49m\u001b[38;5;124;43m\"\u001b[39;49m\u001b[43m)\u001b[49m\u001b[38;5;241;43m.\u001b[39;49m\u001b[43mto_markdown\u001b[49m\u001b[43m(\u001b[49m\u001b[43m)\u001b[49m\n",
      "File \u001b[0;32m~/Library/Python/3.9/lib/python/site-packages/pandas/core/frame.py:2839\u001b[0m, in \u001b[0;36mDataFrame.to_markdown\u001b[0;34m(self, buf, mode, index, storage_options, **kwargs)\u001b[0m\n\u001b[1;32m   2837\u001b[0m kwargs\u001b[38;5;241m.\u001b[39msetdefault(\u001b[38;5;124m\"\u001b[39m\u001b[38;5;124mtablefmt\u001b[39m\u001b[38;5;124m\"\u001b[39m, \u001b[38;5;124m\"\u001b[39m\u001b[38;5;124mpipe\u001b[39m\u001b[38;5;124m\"\u001b[39m)\n\u001b[1;32m   2838\u001b[0m kwargs\u001b[38;5;241m.\u001b[39msetdefault(\u001b[38;5;124m\"\u001b[39m\u001b[38;5;124mshowindex\u001b[39m\u001b[38;5;124m\"\u001b[39m, index)\n\u001b[0;32m-> 2839\u001b[0m tabulate \u001b[38;5;241m=\u001b[39m \u001b[43mimport_optional_dependency\u001b[49m\u001b[43m(\u001b[49m\u001b[38;5;124;43m\"\u001b[39;49m\u001b[38;5;124;43mtabulate\u001b[39;49m\u001b[38;5;124;43m\"\u001b[39;49m\u001b[43m)\u001b[49m\n\u001b[1;32m   2840\u001b[0m result \u001b[38;5;241m=\u001b[39m tabulate\u001b[38;5;241m.\u001b[39mtabulate(\u001b[38;5;28mself\u001b[39m, \u001b[38;5;241m*\u001b[39m\u001b[38;5;241m*\u001b[39mkwargs)\n\u001b[1;32m   2841\u001b[0m \u001b[38;5;28;01mif\u001b[39;00m buf \u001b[38;5;129;01mis\u001b[39;00m \u001b[38;5;28;01mNone\u001b[39;00m:\n",
      "File \u001b[0;32m~/Library/Python/3.9/lib/python/site-packages/pandas/compat/_optional.py:135\u001b[0m, in \u001b[0;36mimport_optional_dependency\u001b[0;34m(name, extra, errors, min_version)\u001b[0m\n\u001b[1;32m    133\u001b[0m \u001b[38;5;28;01mexcept\u001b[39;00m \u001b[38;5;167;01mImportError\u001b[39;00m:\n\u001b[1;32m    134\u001b[0m     \u001b[38;5;28;01mif\u001b[39;00m errors \u001b[38;5;241m==\u001b[39m \u001b[38;5;124m\"\u001b[39m\u001b[38;5;124mraise\u001b[39m\u001b[38;5;124m\"\u001b[39m:\n\u001b[0;32m--> 135\u001b[0m         \u001b[38;5;28;01mraise\u001b[39;00m \u001b[38;5;167;01mImportError\u001b[39;00m(msg)\n\u001b[1;32m    136\u001b[0m     \u001b[38;5;28;01mreturn\u001b[39;00m \u001b[38;5;28;01mNone\u001b[39;00m\n\u001b[1;32m    138\u001b[0m \u001b[38;5;66;03m# Handle submodules: if we have submodule, grab parent module from sys.modules\u001b[39;00m\n",
      "\u001b[0;31mImportError\u001b[0m: Missing optional dependency 'tabulate'.  Use pip or conda to install tabulate."
     ]
    }
   ],
   "source": [
    "bph.get_opponent_history(all_games, \"rat\")"
   ]
  },
  {
   "cell_type": "code",
   "execution_count": 12,
   "id": "89b9a144-31b3-4466-adb2-71789ace8626",
   "metadata": {},
   "outputs": [
    {
     "data": {
      "text/plain": [
       "(43950,\n",
       " tech_away        1968\n",
       " tech_in          2638\n",
       " tech_fail       30419\n",
       " tech_neutral     8925\n",
       " dtype: int64,\n",
       " tech_away       0.044778\n",
       " tech_in         0.060023\n",
       " tech_fail       0.692127\n",
       " tech_neutral    0.203072\n",
       " dtype: float64)"
      ]
     },
     "execution_count": 12,
     "metadata": {},
     "output_type": "execute_result"
    }
   ],
   "source": [
    "bph.tech_options(all_games, my_id, False)"
   ]
  },
  {
   "cell_type": "code",
   "execution_count": 17,
   "id": "03dce82c-f44f-4ebe-bec2-740e28e41968",
   "metadata": {},
   "outputs": [
    {
     "data": {
      "text/plain": [
       "wavedash_count      0.222374\n",
       "waveland_count      0.236965\n",
       "airdodge_count      1.566537\n",
       "dashdance_count     1.573152\n",
       "spotdodge_count     0.439300\n",
       "roll_count         26.909144\n",
       "ledgegrab_count     4.141051\n",
       "dtype: float64"
      ]
     },
     "execution_count": 17,
     "metadata": {},
     "output_type": "execute_result"
    }
   ],
   "source": [
    "bph.avg_shmove_counts(completed_games, my_id)"
   ]
  },
  {
   "cell_type": "code",
   "execution_count": 18,
   "id": "6015e31b-8168-4501-b1a7-8c9b92cc30d6",
   "metadata": {},
   "outputs": [
    {
     "data": {
      "text/plain": [
       "wavedash_count     16.692996\n",
       "waveland_count      4.058755\n",
       "airdodge_count      3.131907\n",
       "dashdance_count    23.658755\n",
       "spotdodge_count     1.342412\n",
       "roll_count          5.626459\n",
       "ledgegrab_count     4.613813\n",
       "dtype: float64"
      ]
     },
     "execution_count": 18,
     "metadata": {},
     "output_type": "execute_result"
    }
   ],
   "source": [
    "bph.avg_shmove_counts(completed_games, my_id, False)"
   ]
  },
  {
   "cell_type": "code",
   "execution_count": null,
   "id": "cfd543fb-7adb-4522-acd0-57af4af2b033",
   "metadata": {},
   "outputs": [],
   "source": []
  },
  {
   "cell_type": "code",
   "execution_count": null,
   "id": "444a2af5-9c4a-4ca8-a16b-7d15eb2bf349",
   "metadata": {},
   "outputs": [],
   "source": []
  }
 ],
 "metadata": {
  "kernelspec": {
   "display_name": "Python 3 (ipykernel)",
   "language": "python",
   "name": "python3"
  },
  "language_info": {
   "codemirror_mode": {
    "name": "ipython",
    "version": 3
   },
   "file_extension": ".py",
   "mimetype": "text/x-python",
   "name": "python",
   "nbconvert_exporter": "python",
   "pygments_lexer": "ipython3",
   "version": "3.9.6"
  }
 },
 "nbformat": 4,
 "nbformat_minor": 5
}
